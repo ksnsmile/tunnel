{
 "cells": [
  {
   "cell_type": "code",
   "execution_count": null,
   "id": "8bb8d51e-0046-4ca9-b557-0e2299d93071",
   "metadata": {},
   "outputs": [],
   "source": []
  }
 ],
 "metadata": {
  "kernelspec": {
   "display_name": "Python(nami_1)",
   "language": "python",
   "name": "nami_1"
  },
  "language_info": {
   "codemirror_mode": {
    "name": "ipython",
    "version": 3
   },
   "file_extension": ".py",
   "mimetype": "text/x-python",
   "name": "python",
   "nbconvert_exporter": "python",
   "pygments_lexer": "ipython3",
   "version": "3.8.20"
  }
 },
 "nbformat": 4,
 "nbformat_minor": 5
}
